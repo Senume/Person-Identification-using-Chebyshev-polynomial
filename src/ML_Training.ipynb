{
 "cells": [
  {
   "attachments": {},
   "cell_type": "markdown",
   "metadata": {},
   "source": [
    "## **IMPORT LIBRARY**"
   ]
  },
  {
   "cell_type": "code",
   "execution_count": null,
   "metadata": {},
   "outputs": [],
   "source": [
    "import os, warnings, math\n",
    "import pandas as pd\n"
   ]
  },
  {
   "attachments": {},
   "cell_type": "markdown",
   "metadata": {},
   "source": [
    "## **LOADING DATASET**"
   ]
  },
  {
   "cell_type": "code",
   "execution_count": null,
   "metadata": {},
   "outputs": [],
   "source": [
    "# For given Interval Type\n",
    "os.chdir(L[0])\n",
    "\n",
    "# Selecting Coefficient_Count Folder \n",
    "Coeff_Fol = os.listdir()\n",
    "print(\"Chebyshev Coefficent\",Coeff_Fol)\n",
    "os.chdir(Coeff_Fol[10])\n",
    "\n",
    "# Patient List\n",
    "PatientList =  os.listdir()\n",
    "\n",
    "# Label Specifying Each Patient\n",
    "Label = {}\n",
    "\n",
    "for n in range(0,len(PatientList)):\n",
    "    Label[PatientList[n]] = n\n",
    "\n",
    "# Spliting the Person into Family List and New Individual List\n",
    "N = len(PatientList)\n",
    "FamilyList_EndIndex = int(math.ceil((70/100)*N))\n",
    "FamilyList = PatientList[:FamilyList_EndIndex]\n",
    "NewIdividualList = PatientList[FamilyList_EndIndex:]\n",
    "\n",
    "\n",
    "# Reading Dataset\n",
    "print(\"Reading Dataset of Chebyshev Coefficient: \", Coeff_Fol[10])\n",
    "\n",
    "Dataset = pd.DataFrame()\n",
    "\n",
    "for name in FamilyList:\n",
    "    Temp = pd.read_csv(name)\n",
    "    Temp['TARGET'] = Label[name]\n",
    "    Dataset = Dataset.append(Temp, ignore_index= True)\n",
    "\n",
    "Dataset_Accepted = pd.DataFrame()\n",
    "    \n",
    "\n",
    "os.chdir(dir)"
   ]
  }
 ],
 "metadata": {
  "kernelspec": {
   "display_name": "Python 3",
   "language": "python",
   "name": "python3"
  },
  "language_info": {
   "name": "python",
   "version": "3.8.10"
  },
  "orig_nbformat": 4,
  "vscode": {
   "interpreter": {
    "hash": "916dbcbb3f70747c44a77c7bcd40155683ae19c65e1c03b4aa3499c5328201f1"
   }
  }
 },
 "nbformat": 4,
 "nbformat_minor": 2
}
