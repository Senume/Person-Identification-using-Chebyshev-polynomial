{
 "cells": [
  {
   "attachments": {},
   "cell_type": "markdown",
   "metadata": {},
   "source": [
    "## **IMPORT LIBRARY**"
   ]
  },
  {
   "cell_type": "code",
   "execution_count": 2,
   "metadata": {},
   "outputs": [
    {
     "name": "stdout",
     "output_type": "stream",
     "text": [
      "/home/senume/Project/Research/Person-Identification-using-Chebyshev-polynomial\n"
     ]
    }
   ],
   "source": [
    "import wfdb as wf\n",
    "import neurokit2 as ECG\n",
    "from scipy import signal as Sig\n",
    "import numpy as np\n",
    "from numpy.polynomial import chebyshev\n",
    "import os\n",
    "import warnings\n",
    "\n",
    "# Directory Path Saving\n",
    "os.chdir('..')\n",
    "dir = os.getcwd()\n",
    "print(dir)"
   ]
  },
  {
   "cell_type": "code",
   "execution_count": null,
   "metadata": {},
   "outputs": [],
   "source": [
    "warnings.filterwarnings(\"ignore\")"
   ]
  },
  {
   "attachments": {},
   "cell_type": "markdown",
   "metadata": {},
   "source": [
    "## **CATEGORIES HEALTHY PATIENTS**"
   ]
  },
  {
   "cell_type": "code",
   "execution_count": null,
   "metadata": {},
   "outputs": [],
   "source": [
    "# Specifying Dataset Directory\n",
    "os.chdir(dir + '/Dataset')\n",
    "Patients_List = os.listdir()\n",
    "os.chdir(dir)\n",
    "\n",
    "\n",
    "# Healthy control List\n",
    "HC = []\n",
    "\n",
    "for patient in Patients_List:\n",
    "    os.chdir(dir + '/Dataset/' + patient) \n",
    "    Files = os.listdir() \n",
    "    F = [a for a in Files if a.endswith('.dat')] \n",
    "    List = []\n",
    "    for Audio in F:\n",
    "        _, fields = wf.rdsamp( dir + '/Dataset/' + patient +'/' + Audio.replace('.dat',''))\n",
    "        if 'Healthy control' in fields['comments'][4]:\n",
    "            List.append(Audio.replace('.dat',''))\n",
    "    if 'Healthy control' in fields['comments'][4]:\n",
    "        HC.append([patient, List])\n"
   ]
  },
  {
   "attachments": {},
   "cell_type": "markdown",
   "metadata": {},
   "source": [
    "## **FUNCTION DEFINITION**"
   ]
  },
  {
   "cell_type": "code",
   "execution_count": null,
   "metadata": {},
   "outputs": [],
   "source": [
    "def Feature_Extraction(Patient, Audio, N, SR, lead, Peak_type, file):\n",
    "    ''' \n",
    "        Function for extracting Features from Beatwise Based on Interval\n",
    "\n",
    "        Parameters:\n",
    "\n",
    "        Patient - Name of the folder which holds the Audio file\n",
    "        Audio - Name of the audio file which is used to extract features\n",
    "        N - Degree at which the Chebyshev Coefficients are extracted\n",
    "        SR - Sampling rate\n",
    "        lead - Index of the ECG signal Lead used\n",
    "        Peak_type - Interval of the Beat (R-R , P-P, Q-Q, S-S or T-T)\n",
    "        file - Object of the file which used to write the Features into\n",
    "\n",
    "        Returns:\n",
    "\n",
    "        None\n",
    "    \n",
    "    '''\n",
    "    try:\n",
    "        signal_array, _ = wf.rdsamp(f'/home/senume/Project/Research/Person-Identification-using-Chebyshev-polynomial/Dataset/{Patient}/{Audio}')\n",
    "        signal = signal_array[:,lead]\n",
    "\n",
    "        signal = ECG.ecg_clean(signal, sampling_rate = SR, method='pantompkins1985')\n",
    "        \n",
    "\n",
    "        _,R_Peaks = ECG.ecg_peaks(signal, method=\"pantompkins1985\")\n",
    "        #print('Signal Size: ' + str(signal.shape[0]) )\n",
    "        _,Peaks = ECG.ecg_delineate(signal, R_Peaks, sampling_rate = SR, show_type= 'all', method='cwt')\n",
    "\n",
    "        Peaks.update(R_Peaks)\n",
    "\n",
    "        Selected_Peaks = Peaks[f\"ECG_{Peak_type}_Peaks\"]\n",
    "        #print(Selected_Peaks)\n",
    "\n",
    "        for i in range(1, len(Selected_Peaks)):\n",
    "            #print(type(Selected_Peaks[i]))\n",
    "            if (isinstance(Selected_Peaks[i-1], np.int64) and isinstance(Selected_Peaks[i], np.int64) and Selected_Peaks[i] != Selected_Peaks[i-1]) or (isinstance(Selected_Peaks[i-1], int) and isinstance(Selected_Peaks[i], int) and Selected_Peaks[i] != Selected_Peaks[i-1]):\n",
    "                Beat = signal[Selected_Peaks[i-1]:Selected_Peaks[i]]\n",
    "                #print('Beat Number: ' + str(i) + '  Beat Size: ' + str(Beat.shape[0]) + f\"    Start Index : {Selected_Peaks[i-1]}    End Index : {Selected_Peaks[i]}\")\n",
    "                t = np.linspace(-1,1,Beat.shape[0])\n",
    "                Coeff = chebyshev.chebfit(x = t,y = Beat,deg=(N-1))\n",
    "                Feature = ''\n",
    "                for element in Coeff:\n",
    "                    Feature += ',' + str(element)\n",
    "                \n",
    "                file.write(Audio + f'_{str(i-1)}' + Feature + '\\n')\n",
    "    except:\n",
    "        print(\"Skipping the Audio: \" + Audio )\n"
   ]
  },
  {
   "attachments": {},
   "cell_type": "markdown",
   "metadata": {},
   "source": [
    "## **FEATURE EXTRACTION (BEATWISE INTERVAL)**"
   ]
  },
  {
   "cell_type": "code",
   "execution_count": null,
   "metadata": {},
   "outputs": [],
   "source": [
    "Degrees = [10, 20, 30, 40, 50, 60, 70, 80, 90, 100]\n",
    "Peak = 'T'  # P,Q,R,S,T (Possible Inputs)\n",
    "\n",
    "os.mkdir(dir + f'/Feature_Dataset/{Peak}{Peak}_Interval')\n",
    "\n",
    "for Degree in Degrees:\n",
    "    os.mkdir(dir + f'/Feature_Dataset/{Peak}{Peak}_Interval/{str(Degree)}')\n",
    "    for Person in HC:\n",
    "        \n",
    "        file = open( dir + f'/Feature_Dataset/{Peak}{Peak}_Interval/{str(Degree)}/Feature_Extraction_{Peak}{Peak}_Interval_{Degree}_{Person[0]}.csv', 'a')\n",
    "\n",
    "        file.write('ID')\n",
    "        for k in range(1,Degree+1):\n",
    "            file.write(f',CC_{k}')\n",
    "        file.write('\\n')\n",
    "\n",
    "        for Audio in Person[1]:\n",
    "            print(\"Person :\" + Person[0] + '   Audio: ' + Audio)\n",
    "            Feature_Extraction(Patient=Person[0], Audio = Audio, N = Degree, SR= 1000, lead = 11, Peak_type=Peak, file = file)\n",
    "            \n",
    "        file.close()\n"
   ]
  },
  {
   "attachments": {},
   "cell_type": "markdown",
   "metadata": {},
   "source": [
    "## **TESTING AREA**"
   ]
  },
  {
   "cell_type": "code",
   "execution_count": 5,
   "metadata": {},
   "outputs": [
    {
     "data": {
      "text/plain": [
       "[627,\n",
       " 1185,\n",
       " 1650,\n",
       " 2649,\n",
       " 3099,\n",
       " 4122,\n",
       " 4868,\n",
       " 5318,\n",
       " 6062,\n",
       " 6803,\n",
       " 7796,\n",
       " 8244,\n",
       " 8982,\n",
       " 9964,\n",
       " 10418,\n",
       " 11147,\n",
       " 11869,\n",
       " 12852,\n",
       " 13309,\n",
       " 14042,\n",
       " 15047,\n",
       " 15783,\n",
       " 16240,\n",
       " 17263,\n",
       " 17985,\n",
       " 18714,\n",
       " 19453,\n",
       " 20184,\n",
       " 20905,\n",
       " 21358,\n",
       " 22083,\n",
       " 23103,\n",
       " 23830,\n",
       " 24559,\n",
       " 25295,\n",
       " 26019,\n",
       " 26761,\n",
       " 27225,\n",
       " 27955,\n",
       " 28971,\n",
       " 29711,\n",
       " 30460,\n",
       " 31186,\n",
       " 31931,\n",
       " 32375,\n",
       " 33415,\n",
       " 34149,\n",
       " 34901,\n",
       " 35355,\n",
       " 36390,\n",
       " 37123,\n",
       " 37872]"
      ]
     },
     "execution_count": 5,
     "metadata": {},
     "output_type": "execute_result"
    }
   ],
   "source": [
    "SR = 1000\n",
    "lead = 11\n",
    "N = 5\n",
    "Peak_type = 'S'\n",
    "\n",
    "\n",
    "signal_array, fields = wf.rdsamp('/home/senume/Project/Research/Person-Identification-using-Chebyshev-polynomial/Dataset/patient001/s0010_re')\n",
    "signal = signal_array[:,lead]\n",
    "\n",
    "signal = ECG.ecg_clean(signal, sampling_rate = SR, method='pantompkins1985')\n",
    "\n",
    "_,R_Peaks = ECG.ecg_peaks(signal, Sampling_rate = SR, method='pantompkins1985')\n",
    "_,Peaks = ECG.ecg_delineate(signal, R_Peaks, sampling_rate = SR, show_type= 'all', method= 'cwt')\n",
    "\n",
    "Peaks.update(R_Peaks)\n",
    "\n",
    "# Selected_Peaks = Peaks[f\"ECG_{Peak_type}_Peaks\"]\n",
    "\n",
    "# #file = open(dir + \"/Feature_Dataset/\" + str(N) + \"/\" + f\"Feature_Extraction_{Patient}\")\n",
    "\n",
    "# for i in range(1, len(Selected_Peaks)):\n",
    "#     if Selected_Peaks[i] != np.nan and Selected_Peaks[i-1] != np.nan:\n",
    "#         Beat = signal[Selected_Peaks[i-1]:Selected_Peaks[i]]\n",
    "#         t = np.linspace(-1,1,Beat.shape[0])\n",
    "#         Coeff = chebyshev.chebfit(t,Beat,N)\n",
    "\n",
    "# print(Coeff)\n",
    "\n",
    "Peaks['']\n",
    "\n",
    "\n"
   ]
  }
 ],
 "metadata": {
  "kernelspec": {
   "display_name": "Person_identification_Env",
   "language": "python",
   "name": "python3"
  },
  "language_info": {
   "codemirror_mode": {
    "name": "ipython",
    "version": 3
   },
   "file_extension": ".py",
   "mimetype": "text/x-python",
   "name": "python",
   "nbconvert_exporter": "python",
   "pygments_lexer": "ipython3",
   "version": "3.9.16"
  },
  "orig_nbformat": 4,
  "vscode": {
   "interpreter": {
    "hash": "ba7e47fdde9fb7b821f6c46db07941d2cd2eb51a9a133aa80525f26ffa6806f7"
   }
  }
 },
 "nbformat": 4,
 "nbformat_minor": 2
}
