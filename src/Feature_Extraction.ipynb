{
 "cells": [
  {
   "attachments": {},
   "cell_type": "markdown",
   "metadata": {},
   "source": [
    "## **IMPORT LIBRARY**"
   ]
  },
  {
   "cell_type": "code",
   "execution_count": 2,
   "metadata": {},
   "outputs": [
    {
     "name": "stdout",
     "output_type": "stream",
     "text": [
      "/home/senume/Project/Research/Person-Identification-using-Chebyshev-polynomial\n"
     ]
    }
   ],
   "source": [
    "import wfdb as wf\n",
    "import neurokit2 as ECG\n",
    "from scipy import signal as Sig\n",
    "import numpy as np\n",
    "from numpy.polynomial import chebyshev\n",
    "import os\n",
    "\n",
    "# Directory Path Saving\n",
    "os.chdir('..')\n",
    "dir = os.getcwd()\n",
    "print(dir)"
   ]
  },
  {
   "attachments": {},
   "cell_type": "markdown",
   "metadata": {},
   "source": [
    "## **CATEGORIES HEALTHY PATIENTS**"
   ]
  },
  {
   "cell_type": "code",
   "execution_count": 11,
   "metadata": {},
   "outputs": [],
   "source": [
    "# Specifying Dataset Directory\n",
    "os.chdir(dir + '/Dataset')\n",
    "Patients_List = os.listdir()\n",
    "os.chdir(dir)\n",
    "\n",
    "\n",
    "# Healthy control List\n",
    "HC = []\n",
    "\n",
    "for patient in Patients_List:\n",
    "    os.chdir(dir + '/Dataset/' + patient) \n",
    "    Files = os.listdir() \n",
    "    F = [a for a in Files if a.endswith('.dat')] \n",
    "    List = []\n",
    "    for Audio in F:\n",
    "        _, fields = wf.rdsamp( dir + '/Dataset/' + patient +'/' + Audio.replace('.dat',''))\n",
    "        if 'Healthy control' in fields['comments'][4]:\n",
    "            List.append(Audio.replace('.dat',''))\n",
    "    if 'Healthy control' in fields['comments'][4]:\n",
    "        HC.append([patient, List])\n"
   ]
  },
  {
   "attachments": {},
   "cell_type": "markdown",
   "metadata": {},
   "source": [
    "## **FUNCTION DEFINITION**"
   ]
  },
  {
   "cell_type": "code",
   "execution_count": 18,
   "metadata": {},
   "outputs": [],
   "source": [
    "def Feature_Extraction(Patient, Audio, N, SR, lead, Peak_type, file):\n",
    "    signal_array, fields = wf.rdsamp(f'/home/senume/Project/Research/Person-Identification-using-Chebyshev-polynomial/Dataset/{Patient}/{Audio}')\n",
    "    signal = signal_array[:,lead]\n",
    "\n",
    "    signal = ECG.ecg_clean(signal, sampling_rate = SR, method='pantompkins1985')\n",
    "\n",
    "    _,R_Peaks = ECG.ecg_peaks(signal, Sampling_rate = SR, method='pantompkins1985')\n",
    "    _,Peaks = ECG.ecg_delineate(signal, R_Peaks, sampling_rate = SR, show_type= 'all')\n",
    "\n",
    "    Peaks.update(R_Peaks)\n",
    "\n",
    "    Selected_Peaks = Peaks[f\"ECG_{Peak_type}_Peaks\"]\n",
    "\n",
    "    for i in range(1, len(Selected_Peaks)):\n",
    "        if isinstance(Selected_Peaks[i], np.int64) and isinstance(Selected_Peaks[i], np.int64):\n",
    "            Beat = signal[Selected_Peaks[i-1]:Selected_Peaks[i]]\n",
    "            t = np.linspace(-1,1,Beat.shape[0])\n",
    "            Coeff = chebyshev.chebfit(t,Beat,(N-1))\n",
    "            Feature = ''\n",
    "            for element in Coeff:\n",
    "                Feature += ',' + str(element)\n",
    "            \n",
    "            file.write(Audio + f'_{str(i-1)}' + Feature + '\\n')\n"
   ]
  },
  {
   "cell_type": "code",
   "execution_count": 19,
   "metadata": {},
   "outputs": [
    {
     "name": "stderr",
     "output_type": "stream",
     "text": [
      "/home/senume/anaconda3/envs/Person_identification_Env/lib/python3.9/site-packages/numpy/core/fromnumeric.py:3464: RuntimeWarning: Mean of empty slice.\n",
      "  return _methods._mean(a, axis=axis, dtype=dtype,\n",
      "/home/senume/anaconda3/envs/Person_identification_Env/lib/python3.9/site-packages/numpy/core/_methods.py:192: RuntimeWarning: invalid value encountered in scalar divide\n",
      "  ret = ret.dtype.type(ret / rcount)\n"
     ]
    }
   ],
   "source": [
    "Degree = 50\n",
    "Peak = 'S'  #P,Q,R,S,T\n",
    "\n",
    "#os.mkdir(dir + f'/Feature_Dataset/{Peak}{Peak}_Interval')\n",
    "os.mkdir(dir + f'/Feature_Dataset/{Peak}{Peak}_Interval/{str(Degree)}')\n",
    "for Person in HC:\n",
    "    \n",
    "    file = open( dir + f'/Feature_Dataset/{Peak}{Peak}_Interval/{str(Degree)}/Feature_Extraction_{Peak}{Peak}_Interval_{Degree}_{Person[0]}.csv', 'a')\n",
    "\n",
    "    file.write('ID')\n",
    "    for k in range(1,Degree+1):\n",
    "        file.write(f',CC_{k}')\n",
    "    file.write('\\n')\n",
    "\n",
    "    for Audio in Person[1]:\n",
    "        Feature_Extraction(Patient=Person[0], Audio = Audio, N = Degree, SR= 1000, lead = 11, Peak_type=Peak, file = file)\n",
    "    file.close()\n",
    "    break\n"
   ]
  },
  {
   "attachments": {},
   "cell_type": "markdown",
   "metadata": {},
   "source": [
    "## **TESTING AREA**"
   ]
  },
  {
   "cell_type": "code",
   "execution_count": 101,
   "metadata": {},
   "outputs": [
    {
     "name": "stdout",
     "output_type": "stream",
     "text": [
      "[-0.00567613 -0.01243997 -0.01650993 -0.00423749 -0.00644909  0.02581128]\n"
     ]
    }
   ],
   "source": [
    "SR = 1000\n",
    "lead = 11\n",
    "N = 5\n",
    "Peak_type = 'S'\n",
    "\n",
    "\n",
    "signal_array, fields = wf.rdsamp('/home/senume/Project/Research/Person-Identification-using-Chebyshev-polynomial/Dataset/patient001/s0010_re')\n",
    "signal = signal_array[:,lead]\n",
    "\n",
    "signal = ECG.ecg_clean(signal, sampling_rate = SR, method='pantompkins1985')\n",
    "\n",
    "_,R_Peaks = ECG.ecg_peaks(signal, Sampling_rate = SR, method='pantompkins1985')\n",
    "_,Peaks = ECG.ecg_delineate(signal, R_Peaks, sampling_rate = SR, show_type= 'all')\n",
    "\n",
    "Peaks.update(R_Peaks)\n",
    "\n",
    "Selected_Peaks = Peaks[f\"ECG_{Peak_type}_Peaks\"]\n",
    "\n",
    "#file = open(dir + \"/Feature_Dataset/\" + str(N) + \"/\" + f\"Feature_Extraction_{Patient}\")\n",
    "\n",
    "for i in range(1, len(Selected_Peaks)):\n",
    "    if Selected_Peaks[i] != np.nan and Selected_Peaks[i-1] != np.nan:\n",
    "        Beat = signal[Selected_Peaks[i-1]:Selected_Peaks[i]]\n",
    "        t = np.linspace(-1,1,Beat.shape[0])\n",
    "        Coeff = chebyshev.chebfit(t,Beat,N)\n",
    "\n",
    "print(Coeff)\n",
    "\n",
    "\n"
   ]
  },
  {
   "cell_type": "code",
   "execution_count": 7,
   "metadata": {},
   "outputs": [],
   "source": [
    "Peak = 'S'\n",
    "\n",
    "os.mkdir(dir + f'/Feature_Dataset/{Peak}{Peak}_Interval')"
   ]
  }
 ],
 "metadata": {
  "kernelspec": {
   "display_name": "Person_identification_Env",
   "language": "python",
   "name": "python3"
  },
  "language_info": {
   "codemirror_mode": {
    "name": "ipython",
    "version": 3
   },
   "file_extension": ".py",
   "mimetype": "text/x-python",
   "name": "python",
   "nbconvert_exporter": "python",
   "pygments_lexer": "ipython3",
   "version": "3.9.16"
  },
  "orig_nbformat": 4,
  "vscode": {
   "interpreter": {
    "hash": "ba7e47fdde9fb7b821f6c46db07941d2cd2eb51a9a133aa80525f26ffa6806f7"
   }
  }
 },
 "nbformat": 4,
 "nbformat_minor": 2
}
